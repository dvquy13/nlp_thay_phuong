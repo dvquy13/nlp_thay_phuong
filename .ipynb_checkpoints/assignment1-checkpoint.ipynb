{
 "cells": [
  {
   "cell_type": "code",
   "execution_count": 212,
   "metadata": {
    "collapsed": true
   },
   "outputs": [],
   "source": [
    "import csv\n",
    "import re\n",
    "import string"
   ]
  },
  {
   "cell_type": "markdown",
   "metadata": {},
   "source": [
    "### Preprocessing"
   ]
  },
  {
   "cell_type": "code",
   "execution_count": 149,
   "metadata": {
    "collapsed": true
   },
   "outputs": [],
   "source": [
    "with open(\"./data/brown/ca01\") as f:\n",
    "    raw = f.readlines()"
   ]
  },
  {
   "cell_type": "code",
   "execution_count": 150,
   "metadata": {},
   "outputs": [
    {
     "data": {
      "text/plain": [
       "['\\n',\n",
       " '\\n',\n",
       " \"\\tThe/at Fulton/np-tl County/nn-tl Grand/jj-tl Jury/nn-tl said/vbd Friday/nr an/at investigation/nn of/in Atlanta's/np$ recent/jj primary/nn election/nn produced/vbd ``/`` no/at evidence/nn ''/'' that/cs any/dti irregularities/nns took/vbd place/nn ./.\\n\",\n",
       " '\\n',\n",
       " '\\n',\n",
       " \"\\tThe/at jury/nn further/rbr said/vbd in/in term-end/nn presentments/nns that/cs the/at City/nn-tl Executive/jj-tl Committee/nn-tl ,/, which/wdt had/hvd over-all/jj charge/nn of/in the/at election/nn ,/, ``/`` deserves/vbz the/at praise/nn and/cc thanks/nns of/in the/at City/nn-tl of/in-tl Atlanta/np-tl ''/'' for/in the/at manner/nn in/in which/wdt the/at election/nn was/bedz conducted/vbn ./.\\n\",\n",
       " '\\n',\n",
       " '\\n',\n",
       " \"\\tThe/at September-October/np term/nn jury/nn had/hvd been/ben charged/vbn by/in Fulton/np-tl Superior/jj-tl Court/nn-tl Judge/nn-tl Durwood/np Pye/np to/to investigate/vb reports/nns of/in possible/jj ``/`` irregularities/nns ''/'' in/in the/at hard-fought/jj primary/nn which/wdt was/bedz won/vbn by/in Mayor-nominate/nn-tl Ivan/np Allen/np Jr./np ./.\\n\",\n",
       " '\\n',\n",
       " '\\n',\n",
       " \"\\t``/`` Only/rb a/at relative/jj handful/nn of/in such/jj reports/nns was/bedz received/vbn ''/'' ,/, the/at jury/nn said/vbd ,/, ``/`` considering/in the/at widespread/jj interest/nn in/in the/at election/nn ,/, the/at number/nn of/in voters/nns and/cc the/at size/nn of/in this/dt city/nn ''/'' ./.\\n\",\n",
       " '\\n',\n",
       " '\\n',\n",
       " \"\\tThe/at jury/nn said/vbd it/pps did/dod find/vb that/cs many/ap of/in Georgia's/np$ registration/nn and/cc election/nn laws/nns ``/`` are/ber outmoded/jj or/cc inadequate/jj and/cc often/rb ambiguous/jj ''/'' ./.\\n\",\n",
       " '\\n',\n",
       " '\\n',\n",
       " \"\\tIt/pps recommended/vbd that/cs Fulton/np legislators/nns act/vb ``/`` to/to have/hv these/dts laws/nns studied/vbn and/cc revised/vbn to/in the/at end/nn of/in modernizing/vbg and/cc improving/vbg them/ppo ''/'' ./.\\n\",\n",
       " '\\n',\n",
       " '\\n',\n",
       " \"\\tThe/at grand/jj jury/nn commented/vbd on/in a/at number/nn of/in other/ap topics/nns ,/, among/in them/ppo the/at Atlanta/np and/cc Fulton/np-tl County/nn-tl purchasing/vbg departments/nns which/wdt it/pps said/vbd ``/`` are/ber well/ql operated/vbn and/cc follow/vb generally/rb accepted/vbn practices/nns which/wdt inure/vb to/in the/at best/jjt interest/nn of/in both/abx governments/nns ''/'' ./.\\n\",\n",
       " '\\n',\n",
       " '\\n',\n",
       " '\\n',\n",
       " 'Merger/nn-hl proposed/vbn-hl \\n',\n",
       " \"However/wrb ,/, the/at jury/nn said/vbd it/pps believes/vbz ``/`` these/dts two/cd offices/nns should/md be/be combined/vbn to/to achieve/vb greater/jjr efficiency/nn and/cc reduce/vb the/at cost/nn of/in administration/nn ''/'' ./.\\n\",\n",
       " '\\n',\n",
       " '\\n',\n",
       " \"\\tThe/at City/nn-tl Purchasing/vbg-tl Department/nn-tl ,/, the/at jury/nn said/vbd ,/, ``/`` is/bez lacking/vbg in/in experienced/vbn clerical/jj personnel/nns as/cs a/at result/nn of/in city/nn personnel/nns policies/nns ''/'' ./.\\n\",\n",
       " \"It/pps urged/vbd that/cs the/at city/nn ``/`` take/vb steps/nns to/to remedy/vb ''/'' this/dt problem/nn ./.\\n\",\n",
       " '\\n',\n",
       " '\\n',\n",
       " \"\\tImplementation/nn of/in Georgia's/np$ automobile/nn title/nn law/nn was/bedz also/rb recommended/vbn by/in the/at outgoing/jj jury/nn ./.\\n\",\n",
       " '\\n',\n",
       " '\\n',\n",
       " \"\\tIt/pps urged/vbd that/cs the/at next/ap Legislature/nn-tl ``/`` provide/vb enabling/vbg funds/nns and/cc re-set/vb the/at effective/jj date/nn so/cs that/cs an/at orderly/jj implementation/nn of/in the/at law/nn may/md be/be effected/vbn ''/'' ./.\\n\",\n",
       " '\\n',\n",
       " '\\n',\n",
       " \"\\tThe/at grand/jj jury/nn took/vbd a/at swipe/nn at/in the/at State/nn-tl Welfare/nn-tl Department's/nn$-tl handling/nn of/in federal/jj funds/nns granted/vbn for/in child/nn welfare/nn services/nns in/in foster/jj homes/nns ./.\\n\",\n",
       " '\\n',\n",
       " '\\n',\n",
       " \"\\t``/`` This/dt is/bez one/cd of/in the/at major/jj items/nns in/in the/at Fulton/np-tl County/nn-tl general/jj assistance/nn program/nn ''/'' ,/, the/at jury/nn said/vbd ,/, but/cc the/at State/nn-tl Welfare/nn-tl Department/nn-tl ``/`` has/hvz seen/vbn fit/jj to/to distribute/vb these/dts funds/nns through/in the/at welfare/nn departments/nns of/in all/abn the/at counties/nns in/in the/at state/nn with/in the/at exception/nn of/in Fulton/np-tl County/nn-tl ,/, which/wdt receives/vbz none/pn of/in this/dt money/nn ./.\\n\",\n",
       " '\\n',\n",
       " '\\n',\n",
       " \"\\tThe/at jurors/nns said/vbd they/ppss realize/vb ``/`` a/at proportionate/jj distribution/nn of/in these/dts funds/nns might/md disable/vb this/dt program/nn in/in our/pp$ less/ql populous/jj counties/nns ''/'' ./.\\n\",\n",
       " '\\n',\n",
       " '\\n',\n",
       " \"\\tNevertheless/rb ,/, ``/`` we/ppss feel/vb that/cs in/in the/at future/nn Fulton/np-tl County/nn-tl should/md receive/vb some/dti portion/nn of/in these/dts available/jj funds/nns ''/'' ,/, the/at jurors/nns said/vbd ./.\\n\",\n",
       " \"``/`` Failure/nn to/to do/do this/dt will/md continue/vb to/to place/vb a/at disproportionate/jj burden/nn ''/'' on/in Fulton/np taxpayers/nns ./.\\n\",\n",
       " '\\n',\n",
       " '\\n',\n",
       " \"\\tThe/at jury/nn also/rb commented/vbd on/in the/at Fulton/np ordinary's/nn$ court/nn which/wdt has/hvz been/ben under/in fire/nn for/in its/pp$ practices/nns in/in the/at appointment/nn of/in appraisers/nns ,/, guardians/nns and/cc administrators/nns and/cc the/at awarding/nn of/in fees/nns and/cc compensation/nn ./.\\n\",\n",
       " '\\n',\n",
       " '\\n',\n",
       " '\\n',\n",
       " 'Wards/nns-hl protected/vbn-hl \\n',\n",
       " \"The/at jury/nn said/vbd it/pps found/vbd the/at court/nn ``/`` has/hvz incorporated/vbn into/in its/pp$ operating/vbg procedures/nns the/at recommendations/nns ''/'' of/in two/cd previous/jj grand/jj juries/nns ,/, the/at Atlanta/np-tl Bar/nn-tl Association/nn-tl and/cc an/at interim/nn citizens/nns committee/nn ./.\\n\",\n",
       " '\\n',\n",
       " '\\n',\n",
       " \"\\t``/`` These/dts actions/nns should/md serve/vb to/to protect/vb in/in fact/nn and/cc in/in effect/nn the/at court's/nn$ wards/nns from/in undue/jj costs/nns and/cc its/pp$ appointed/vbn and/cc elected/vbn servants/nns from/in unmeritorious/jj criticisms/nns ''/'' ,/, the/at jury/nn said/vbd ./.\\n\",\n",
       " '\\n',\n",
       " '\\n',\n",
       " \"\\tRegarding/in Atlanta's/np$ new/jj multi-million-dollar/jj airport/nn ,/, the/at jury/nn recommended/vbd ``/`` that/cs when/wrb the/at new/jj management/nn takes/vbz charge/nn Jan./np 1/cd the/at airport/nn be/be operated/vbn in/in a/at manner/nn that/wps will/md eliminate/vb political/jj influences/nns ''/'' ./.\\n\",\n",
       " '\\n',\n",
       " '\\n',\n",
       " \"\\tThe/at jury/nn did/dod not/* elaborate/vb ,/, but/cc it/pps added/vbd that/cs ``/`` there/ex should/md be/be periodic/jj surveillance/nn of/in the/at pricing/vbg practices/nns of/in the/at concessionaires/nns for/in the/at purpose/nn of/in keeping/vbg the/at prices/nns reasonable/jj ''/'' ./.\\n\",\n",
       " '\\n',\n",
       " '\\n',\n",
       " '\\n',\n",
       " 'Ask/vb-hl jail/nn-hl deputies/nns-hl \\n',\n",
       " 'On/in other/ap matters/nns ,/, the/at jury/nn recommended/vbd that/cs :/: (/( 1/cd )/) \\n',\n",
       " \"Four/cd additional/jj deputies/nns be/be employed/vbn at/in the/at Fulton/np-tl County/nn-tl Jail/nn-tl and/cc ``/`` a/at doctor/nn ,/, medical/jj intern/nn or/cc extern/nn be/be employed/vbn for/in night/nn and/cc weekend/nn duty/nn at/in the/at jail/nn ''/'' ./.\\n\",\n",
       " '(/( 2/cd )/) \\n',\n",
       " \"Fulton/np legislators/nns ``/`` work/vb with/in city/nn officials/nns to/to pass/vb enabling/vbg legislation/nn that/wps will/md permit/vb the/at establishment/nn of/in a/at fair/jj and/cc equitable/jj ''/'' pension/nn plan/nn for/in city/nn employes/nns ./.\\n\",\n",
       " '\\n',\n",
       " '\\n',\n",
       " \"\\tThe/at jury/nn praised/vbd the/at administration/nn and/cc operation/nn of/in the/at Atlanta/np-tl Police/nns-tl Department/nn-tl ,/, the/at Fulton/np-tl Tax/nn-tl Commissioner's/nn$-tl Office/nn-tl ,/, the/at Bellwood/np and/cc Alpharetta/np prison/nn farms/nns ,/, Grady/np-tl Hospital/nn-tl and/cc the/at Fulton/np-tl Health/nn-tl Department/nn-tl ./.\\n\",\n",
       " '\\n',\n",
       " '\\n',\n",
       " '\\tMayor/nn-tl William/np B./np Hartsfield/np filed/vbd suit/nn for/in divorce/nn from/in his/pp$ wife/nn ,/, Pearl/np Williams/np Hartsfield/np ,/, in/in Fulton/np-tl Superior/jj-tl Court/nn-tl Friday/nr ./.\\n',\n",
       " 'His/pp$ petition/nn charged/vbd mental/jj cruelty/nn ./.\\n',\n",
       " '\\n',\n",
       " '\\n',\n",
       " '\\tThe/at couple/nn was/bedz married/vbn Aug./np 2/cd ,/, 1913/cd ./.\\n',\n",
       " 'They/ppss have/hv a/at son/nn ,/, William/np Berry/np Jr./np ,/, and/cc a/at daughter/nn ,/, Mrs./np J./np M./np Cheshire/np of/in Griffin/np ./.\\n',\n",
       " '\\n',\n",
       " '\\n',\n",
       " '\\tAttorneys/nns for/in the/at mayor/nn said/vbd that/cs an/at amicable/jj property/nn settlement/nn has/hvz been/ben agreed/vbn upon/rb ./.\\n',\n",
       " '\\n',\n",
       " '\\n',\n",
       " \"\\tThe/at petition/nn listed/vbd the/at mayor's/nn$ occupation/nn as/cs ``/`` attorney/nn ''/'' and/cc his/pp$ age/nn as/cs 71/cd ./.\\n\",\n",
       " \"It/pps listed/vbd his/pp$ wife's/nn$ age/nn as/cs 74/cd and/cc place/nn of/in birth/nn as/cs Opelika/np ,/, Ala./np ./.\\n\",\n",
       " '\\n',\n",
       " '\\n',\n",
       " '\\tThe/at petition/nn said/vbd that/cs the/at couple/nn has/hvz not/* lived/vbn together/rb as/cs man/nn and/cc wife/nn for/in more/ap than/in a/at year/nn ./.\\n',\n",
       " '\\n',\n",
       " '\\n',\n",
       " '\\tThe/at Hartsfield/np home/nr is/bez at/in 637/cd E./np Pelham/np Rd./nn-tl Aj/nn ./.\\n',\n",
       " '\\n',\n",
       " '\\n',\n",
       " \"\\tHenry/np L./np Bowden/np was/bedz listed/vbn on/in the/at petition/nn as/cs the/at mayor's/nn$ attorney/nn ./.\\n\",\n",
       " '\\n',\n",
       " '\\n',\n",
       " '\\tHartsfield/np has/hvz been/ben mayor/nn of/in Atlanta/np ,/, with/in exception/nn of/in one/cd brief/jj interlude/nn ,/, since/in 1937/cd ./.\\n',\n",
       " 'His/pp$ political/jj career/nn goes/vbz back/rb to/in his/pp$ election/nn to/in city/nn council/nn in/in 1923/cd ./.\\n',\n",
       " '\\n',\n",
       " '\\n',\n",
       " \"\\tThe/at mayor's/nn$ present/jj term/nn of/in office/nn expires/vbz Jan./np 1/cd ./.\\n\",\n",
       " 'He/pps will/md be/be succeeded/vbn by/in Ivan/np Allen/np Jr./np ,/, who/wps became/vbd a/at candidate/nn in/in the/at Sept./np 13/cd primary/nn after/cs Mayor/nn-tl Hartsfield/np announced/vbd that/cs he/pps would/md not/* run/vb for/in reelection/nn ./.\\n',\n",
       " '\\n',\n",
       " '\\n',\n",
       " \"\\tGeorgia/np Republicans/nps are/ber getting/vbg strong/jj encouragement/nn to/to enter/vb a/at candidate/nn in/in the/at 1962/cd governor's/nn$ race/nn ,/, a/at top/jjs official/nn said/vbd Wednesday/nr ./.\\n\",\n",
       " '\\n',\n",
       " '\\n',\n",
       " '\\tRobert/np Snodgrass/np ,/, state/nn GOP/nn chairman/nn ,/, said/vbd a/at meeting/nn held/vbn Tuesday/nr night/nn in/in Blue/jj-tl Ridge/nn-tl brought/vbd enthusiastic/jj responses/nns from/in the/at audience/nn ./.\\n',\n",
       " '\\n',\n",
       " '\\n',\n",
       " '\\tState/nn-tl Party/nn-tl Chairman/nn-tl James/np W./np Dorsey/np added/vbd that/cs enthusiasm/nn was/bedz picking/vbg up/rp for/in a/at state/nn rally/nn to/to be/be held/vbn Sept./np 8/cd in/in Savannah/np at/in which/wdt newly/rb elected/vbn Texas/np Sen./nn-tl John/np Tower/np will/md be/be the/at featured/vbn speaker/nn ./.\\n',\n",
       " '\\n',\n",
       " '\\n',\n",
       " '\\tIn/in the/at Blue/jj-tl Ridge/nn-tl meeting/nn ,/, the/at audience/nn was/bedz warned/vbn that/cs entering/vbg a/at candidate/nn for/in governor/nn would/md force/vb it/ppo to/to take/vb petitions/nns out/rp into/in voting/vbg precincts/nns to/to obtain/vb the/at signatures/nns of/in registered/vbn voters/nns ./.\\n',\n",
       " '\\n',\n",
       " '\\n',\n",
       " '\\tDespite/in the/at warning/vbg ,/, there/ex was/bedz a/at unanimous/jj vote/nn to/to enter/vb a/at candidate/nn ,/, according/in to/in Republicans/nps who/wps attended/vbd ./.\\n',\n",
       " '\\n',\n",
       " '\\n',\n",
       " '\\tWhen/wrb the/at crowd/nn was/bedz asked/vbn whether/cs it/pps wanted/vbd to/to wait/vb one/cd more/ap term/nn to/to make/vb the/at race/nn ,/, it/pps voted/vbd no/rb --/-- and/cc there/ex were/bed no/at dissents/nns ./.\\n',\n",
       " '\\n',\n",
       " '\\n',\n",
       " '\\tThe/at largest/jjt hurdle/nn the/at Republicans/nps would/md have/hv to/to face/vb is/bez a/at state/nn law/nn which/wdt says/vbz that/cs before/cs making/vbg a/at first/od race/nn ,/, one/cd of/in two/cd alternative/jj courses/nns must/md be/be taken/vbn :/: 1/cd \\n',\n",
       " 'Five/cd per/in cent/nn of/in the/at voters/nns in/in each/dt county/nn must/md sign/vb petitions/nns requesting/vbg that/cs the/at Republicans/nps be/be allowed/vbn to/to place/vb names/nns of/in candidates/nns on/in the/at general/jj election/nn ballot/nn ,/, or/cc 2/cd \\n',\n",
       " 'The/at Republicans/nps must/md hold/vb a/at primary/nn under/in the/at county/nn unit/nn system/nn --/-- a/at system/nn which/wdt the/at party/nn opposes/vbz in/in its/pp$ platform/nn ./.\\n',\n",
       " '\\n',\n",
       " '\\n',\n",
       " \"\\tSam/np Caldwell/np ,/, State/nn-tl Highway/nn-tl Department/nn-tl public/jj relations/nns director/nn ,/, resigned/vbd Tuesday/nr to/to work/vb for/in Lt./nn-tl Gov./nn-tl Garland/np Byrd's/np$ campaign/nn ./.\\n\",\n",
       " '\\n',\n",
       " '\\n',\n",
       " \"\\tCaldwell's/np$ resignation/nn had/hvd been/ben expected/vbn for/in some/dti time/nn ./.\\n\",\n",
       " 'He/pps will/md be/be succeeded/vbn by/in Rob/np Ledford/np of/in Gainesville/np ,/, who/wps has/hvz been/ben an/at assistant/nn more/ap than/in three/cd years/nns ./.\\n',\n",
       " 'When/wrb the/at gubernatorial/jj campaign/nn starts/vbz ,/, Caldwell/np is/bez expected/vbn to/to become/vb a/at campaign/nn coordinator/nn for/in Byrd/np ./.\\n',\n",
       " '\\n',\n",
       " '\\n',\n",
       " '\\tThe/at Georgia/np-tl Legislature/nn-tl will/md wind/vb up/rp its/pp$ 1961/cd session/nn Monday/nr and/cc head/vb for/in home/nr --/-- where/wrb some/dti of/in the/at highway/nn bond/nn money/nn it/pps approved/vbd will/md follow/vb shortly/rb ./.\\n',\n",
       " '\\n',\n",
       " '\\n',\n",
       " '\\tBefore/in adjournment/nn Monday/nr afternoon/nn ,/, the/at Senate/nn-tl is/bez expected/vbn to/to approve/vb a/at study/nn of/in the/at number/nn of/in legislators/nns allotted/vbn to/in rural/jj and/cc urban/jj areas/nns to/to determine/vb what/wdt adjustments/nns should/md be/be made/vbn ./.\\n',\n",
       " '\\n',\n",
       " '\\n',\n",
       " '\\tGov./nn-tl Vandiver/np is/bez expected/vbn to/to make/vb the/at traditional/jj visit/nn to/in both/abx chambers/nns as/cs they/ppss work/vb toward/in adjournment/nn ./.\\n',\n",
       " 'Vandiver/np likely/rb will/md mention/vb the/at $100/nns million/cd highway/nn bond/nn issue/nn approved/vbn earlier/rbr in/in the/at session/nn as/cs his/pp$ first/od priority/nn item/nn ./.\\n',\n",
       " '\\n',\n",
       " '\\n',\n",
       " '\\n',\n",
       " 'Construction/nn-hl bonds/nns-hl \\n',\n",
       " 'Meanwhile/rb ,/, it/pps was/bedz learned/vbn the/at State/nn-tl Highway/nn-tl Department/nn-tl is/bez very/ql near/rb being/beg ready/jj to/to issue/vb the/at first/od $30/nns million/cd worth/nn of/in highway/nn reconstruction/nn bonds/nns ./.\\n',\n",
       " '\\n',\n",
       " '\\n',\n",
       " \"\\tThe/at bond/nn issue/nn will/md go/vb to/in the/at state/nn courts/nns for/in a/at friendly/jj test/nn suit/nn to/to test/vb the/at validity/nn of/in the/at act/nn ,/, and/cc then/rb the/at sales/nns will/md begin/vb and/cc contracts/nns let/vbn for/in repair/nn work/nn on/in some/dti of/in Georgia's/np$ most/ql heavily/rb traveled/vbn highways/nns ./.\\n\",\n",
       " '\\n',\n",
       " '\\n',\n",
       " '\\tA/at Highway/nn-tl Department/nn-tl source/nn said/vbd there/ex also/rb is/bez a/at plan/nn there/rb to/to issue/vb some/dti $3/nns million/cd to/in $4/nns million/cd worth/nn of/in Rural/jj-tl Roads/nns-tl Authority/nn-tl bonds/nns for/in rural/jj road/nn construction/nn work/nn ./.\\n',\n",
       " '\\n',\n",
       " '\\n',\n",
       " '\\n',\n",
       " 'A/at-hl revolving/vbg-hl fund/nn-hl \\n',\n",
       " 'The/at department/nn apparently/rb intends/vbz to/to make/vb the/at Rural/jj-tl Roads/nns-tl Authority/nn-tl a/at revolving/vbg fund/nn under/in which/wdt new/jj bonds/nns would/md be/be issued/vbn every/at time/nn a/at portion/nn of/in the/at old/jj ones/nns are/ber paid/vbn off/rp by/in tax/nn authorities/nns ./.\\n',\n",
       " '\\n',\n",
       " '\\n',\n",
       " '\\tVandiver/np opened/vbd his/pp$ race/nn for/in governor/nn in/in 1958/cd with/in a/at battle/nn in/in the/at Legislature/nn-tl against/in the/at issuance/nn of/in $50/nns million/cd worth/nn of/in additional/jj rural/jj roads/nns bonds/nns proposed/vbn by/in then/rb Gov./nn-tl Marvin/np Griffin/np ./.\\n',\n",
       " '\\n',\n",
       " '\\n',\n",
       " '\\tThe/at Highway/nn-tl Department/nn-tl source/nn told/vbd The/at-tl Constitution/nn-tl ,/, however/wrb ,/, that/cs Vandiver/np has/hvz not/* been/ben consulted/vbn yet/rb about/in the/at plans/nns to/to issue/vb the/at new/jj rural/jj roads/nns bonds/nns ./.\\n',\n",
       " '\\n',\n",
       " '\\n',\n",
       " \"\\tSchley/np County/nn-tl Rep./nn-tl B./np D./np Pelham/np will/md offer/vb a/at resolution/nn Monday/nr in/in the/at House/nn-tl to/to rescind/vb the/at body's/nn$ action/nn of/in Friday/nr in/in voting/vbg itself/ppl a/at $10/nns per/in day/nn increase/nn in/in expense/nn allowances/nns ./.\\n\",\n",
       " '\\n',\n",
       " '\\n',\n",
       " \"\\tPelham/np said/vbd Sunday/nr night/nn there/ex was/bedz research/nn being/beg done/vbn on/in whether/cs the/at ``/`` quickie/nn ''/'' vote/nn on/in the/at increase/nn can/md be/be repealed/vbn outright/rb or/cc whether/cs notice/nn would/md have/hv to/to first/rb be/be given/vbn that/cs reconsideration/nn of/in the/at action/nn would/md be/be sought/vbn ./.\\n\",\n",
       " '\\n',\n",
       " '\\n',\n",
       " '\\tWhile/cs emphasizing/vbg that/cs technical/jj details/nns were/bed not/* fully/rb worked/vbn out/rp ,/, Pelham/np said/vbd his/pp$ resolution/nn would/md seek/vb to/to set/vb aside/rb the/at privilege/nn resolution/nn which/wdt the/at House/nn-tl voted/vbd through/in 87-31/cd ./.\\n',\n",
       " '\\n',\n",
       " '\\n',\n",
       " '\\tA/at similar/jj resolution/nn passed/vbd in/in the/at Senate/nn-tl by/in a/at vote/nn of/in 29-5/cd ./.\\n',\n",
       " 'As/in of/in Sunday/nr night/nn ,/, there/ex was/bedz no/at word/nn of/in a/at resolution/nn being/beg offered/vbn there/rb to/to rescind/vb the/at action/nn ./.\\n',\n",
       " '\\n',\n",
       " '\\n',\n",
       " '\\tPelham/np pointed/vbd out/rp that/cs Georgia/np voters/nns last/ap November/np rejected/vbd a/at constitutional/jj amendment/nn to/to allow/vb legislators/nns to/to vote/vb on/in pay/nn raises/nns for/in future/jj Legislature/nn-tl sessions/nns ./.\\n',\n",
       " '\\n',\n",
       " '\\n',\n",
       " '\\tA/at veteran/jj Jackson/np-tl County/nn-tl legislator/nn will/md ask/vb the/at Georgia/np-tl House/nn-tl Monday/nr to/to back/vb federal/jj aid/nn to/in education/nn ,/, something/pn it/pps has/hvz consistently/rb opposed/vbn in/in the/at past/nn ./.\\n',\n",
       " '\\n',\n",
       " '\\n',\n",
       " \"\\tRep./nn-tl Mac/np Barber/np of/in Commerce/nn-tl is/bez asking/vbg the/at House/nn-tl in/in a/at privilege/nn resolution/nn to/to ``/`` endorse/vb increased/vbn federal/jj support/nn for/in public/jj education/nn ,/, provided/vbn that/cs such/jj funds/nns be/be received/vbn and/cc expended/vbn ''/'' as/cs state/nn funds/nns ./.\\n\",\n",
       " '\\n',\n",
       " '\\n',\n",
       " \"\\tBarber/np ,/, who/wps is/bez in/in his/pp$ 13th/od year/nn as/cs a/at legislator/nn ,/, said/vbd there/ex ``/`` are/ber some/dti members/nns of/in our/pp$ congressional/jj delegation/nn in/in Washington/np who/wps would/md like/vb to/to see/vb it/ppo (/( the/at resolution/nn )/) passed/vbn ''/'' ./.\\n\",\n",
       " \"But/cc he/pps added/vbd that/cs none/pn of/in Georgia's/np$ congressmen/nns specifically/rb asked/vbd him/ppo to/to offer/vb the/at resolution/nn ./.\\n\",\n",
       " '\\n',\n",
       " '\\n',\n",
       " '\\tThe/at resolution/nn ,/, which/wdt Barber/np tossed/vbd into/in the/at House/nn-tl hopper/nn Friday/nr ,/, will/md be/be formally/rb read/vbn Monday/nr ./.\\n',\n",
       " \"It/pps says/vbz that/cs ``/`` in/in the/at event/nn Congress/np does/doz provide/vb this/dt increase/nn in/in federal/jj funds/nns ''/'' ,/, the/at State/nn-tl Board/nn-tl of/in-tl Education/nn-tl should/md be/be directed/vbn to/to ``/`` give/vb priority/nn ''/'' to/in teacher/nn pay/nn raises/nns ./.\\n\",\n",
       " 'Colquitt/np-hl \\n',\n",
       " \"--/-- After/in a/at long/jj ,/, hot/jj controversy/nn ,/, Miller/np-tl County/nn-tl has/hvz a/at new/jj school/nn superintendent/nn ,/, elected/vbn ,/, as/cs a/at policeman/nn put/vbd it/ppo ,/, in/in the/at ``/`` coolest/jjt election/nn I/ppss ever/rb saw/vbd in/in this/dt county/nn ''/'' ./.\\n\",\n",
       " '\\n',\n",
       " '\\n',\n",
       " '\\tThe/at new/jj school/nn superintendent/nn is/bez Harry/np Davis/np ,/, a/at veteran/jj agriculture/nn teacher/nn ,/, who/wps defeated/vbd Felix/np Bush/np ,/, a/at school/nn principal/nn and/cc chairman/nn of/in the/at Miller/np-tl County/nn-tl Democratic/jj-tl Executive/jj-tl Committee/nn-tl ./.\\n',\n",
       " '\\n',\n",
       " '\\n',\n",
       " \"\\tDavis/np received/vbd 1,119/cd votes/nns in/in Saturday's/nr$ election/nn ,/, and/cc Bush/np got/vbd 402/cd ./.\\n\",\n",
       " 'Ordinary/nn-tl Carey/np Williams/np ,/, armed/vbn with/in a/at pistol/nn ,/, stood/vbd by/in at/in the/at polls/nns to/to insure/vb order/nn ./.\\n',\n",
       " '\\n',\n",
       " '\\n',\n",
       " \"\\t``/`` This/dt was/bedz the/at coolest/jjt ,/, calmest/jjt election/nn I/ppss ever/rb saw/vbd ''/'' ,/, Colquitt/np-tl Policeman/nn-tl Tom/np Williams/np said/vbd ./.\\n\",\n",
       " '``/`` Being/beg at/in the/at polls/nns was/bedz just/rb like/cs being/beg at/in church/nn ./.\\n',\n",
       " \"I/ppss didn't/dod* smell/vb a/at drop/nn of/in liquor/nn ,/, and/cc we/ppss didn't/dod* have/hv a/at bit/nn of/in trouble/nn ''/'' ./.\\n\",\n",
       " '\\n',\n",
       " '\\n',\n",
       " '\\tThe/at campaign/nn leading/vbg to/in the/at election/nn was/bedz not/* so/ql quiet/jj ,/, however/wrb ./.\\n',\n",
       " 'It/pps was/bedz marked/vbn by/in controversy/nn ,/, anonymous/jj midnight/nn phone/nn calls/nns and/cc veiled/vbn threats/nns of/in violence/nn ./.\\n',\n",
       " '\\n',\n",
       " '\\n',\n",
       " '\\tThe/at former/ap county/nn school/nn superintendent/nn ,/, George/np P./np Callan/np ,/, shot/vbd himself/ppl to/in death/nn March/np 18/cd ,/, four/cd days/nns after/cs he/pps resigned/vbd his/pp$ post/nn in/in a/at dispute/nn with/in the/at county/nn school/nn board/nn ./.\\n',\n",
       " '\\n',\n",
       " '\\n',\n",
       " '\\tDuring/in the/at election/nn campaign/nn ,/, both/abx candidates/nns ,/, Davis/np and/cc Bush/np ,/, reportedly/rb received/vbd anonymous/jj telephone/nn calls/nns ./.\\n',\n",
       " 'Ordinary/nn-tl Williams/np said/vbd he/pps ,/, too/rb ,/, was/bedz subjected/vbn to/in anonymous/jj calls/nns soon/rb after/cs he/pps scheduled/vbd the/at election/nn ./.\\n',\n",
       " '\\n',\n",
       " '\\n',\n",
       " '\\tMany/ap local/jj citizens/nns feared/vbd that/cs there/ex would/md be/be irregularities/nns at/in the/at polls/nns ,/, and/cc Williams/np got/vbd himself/ppl a/at permit/nn to/to carry/vb a/at gun/nn and/cc promised/vbd an/at orderly/jj election/nn ./.\\n',\n",
       " '\\n',\n",
       " '\\n',\n",
       " '\\tSheriff/nn-tl Felix/np Tabb/np said/vbd the/at ordinary/nn apparently/rb made/vbd good/jj his/pp$ promise/nn ./.\\n',\n",
       " '\\n',\n",
       " '\\n',\n",
       " \"\\t``/`` Everything/pn went/vbd real/ql smooth/jj ''/'' ,/, the/at sheriff/nn said/vbd ./.\\n\",\n",
       " \"``/`` There/ex wasn't/bedz* a/at bit/nn of/in trouble/nn ''/'' ./.\\n\",\n",
       " '\\n']"
      ]
     },
     "execution_count": 150,
     "metadata": {},
     "output_type": "execute_result"
    }
   ],
   "source": [
    "raw"
   ]
  },
  {
   "cell_type": "code",
   "execution_count": 151,
   "metadata": {
    "collapsed": true
   },
   "outputs": [],
   "source": [
    "        def load_sent(raw_txt):\n",
    "    return list(filter(lambda x: x != '\\n', raw_txt))"
   ]
  },
  {
   "cell_type": "code",
   "execution_count": 153,
   "metadata": {},
   "outputs": [
    {
     "data": {
      "text/plain": [
       "\"\\tThe/at jury/nn further/rbr said/vbd in/in term-end/nn presentments/nns that/cs the/at City/nn-tl Executive/jj-tl Committee/nn-tl ,/, which/wdt had/hvd over-all/jj charge/nn of/in the/at election/nn ,/, ``/`` deserves/vbz the/at praise/nn and/cc thanks/nns of/in the/at City/nn-tl of/in-tl Atlanta/np-tl ''/'' for/in the/at manner/nn in/in which/wdt the/at election/nn was/bedz conducted/vbn ./.\\n\""
      ]
     },
     "execution_count": 153,
     "metadata": {},
     "output_type": "execute_result"
    }
   ],
   "source": [
    "load_sent(raw)[1]"
   ]
  },
  {
   "cell_type": "code",
   "execution_count": 225,
   "metadata": {
    "collapsed": true
   },
   "outputs": [],
   "source": [
    "class Preprocessor():\n",
    "    def __init__(self):\n",
    "        self.punc_regex = re.compile('[%s]' % re.escape(string.punctuation))\n",
    "    \n",
    "    @staticmethod\n",
    "    def split_word(s):\n",
    "        splitted = [x.strip().replace(\"\\n\", \"\").replace(\"\\t\", \"\").lower() for x in s.split()]\n",
    "        return splitted\n",
    "    \n",
    "    @staticmethod\n",
    "    def rm_tag(w):\n",
    "        return re.sub(r\"(\\w+)(/.+$)\", r\"\\1\", w)    "
   ]
  },
  {
   "cell_type": "code",
   "execution_count": 226,
   "metadata": {},
   "outputs": [],
   "source": [
    "assert Preprocessor.split_word(\"\\tThe/at jury/nn  presentments/nns Georgia's/np$ \") == [\n",
    "    \"the/at\",\n",
    "    \"jury/nn\",\n",
    "    \"presentments/nns\",\n",
    "    \"georgia's/np$\"\n",
    "]"
   ]
  },
  {
   "cell_type": "code",
   "execution_count": 202,
   "metadata": {},
   "outputs": [],
   "source": [
    "assert Preprocessor.rm_tag(\"The/at\") == (\"The\")\n",
    "assert Preprocessor.rm_tag(\"county/nn-t1\") == (\"county\")\n",
    "assert Preprocessor.rm_tag(\"georgia's/np$\") == (\"georgia's\")"
   ]
  },
  {
   "cell_type": "code",
   "execution_count": 210,
   "metadata": {},
   "outputs": [
    {
     "ename": "TypeError",
     "evalue": "expected a string or other character buffer object",
     "output_type": "error",
     "traceback": [
      "\u001b[0;31m\u001b[0m",
      "\u001b[0;31mTypeError\u001b[0mTraceback (most recent call last)",
      "\u001b[0;32m<ipython-input-210-8dab41ac9dc1>\u001b[0m in \u001b[0;36m<module>\u001b[0;34m()\u001b[0m\n\u001b[1;32m      5\u001b[0m     \u001b[0;32mreturn\u001b[0m \u001b[0ms\u001b[0m\u001b[0;34m.\u001b[0m\u001b[0mtranslate\u001b[0m\u001b[0;34m(\u001b[0m\u001b[0mtbl\u001b[0m\u001b[0;34m)\u001b[0m\u001b[0;34m\u001b[0m\u001b[0m\n\u001b[1;32m      6\u001b[0m \u001b[0;34m\u001b[0m\u001b[0m\n\u001b[0;32m----> 7\u001b[0;31m \u001b[0;32massert\u001b[0m \u001b[0mrm_punc\u001b[0m\u001b[0;34m(\u001b[0m\u001b[0;34m\"georgia's\"\u001b[0m\u001b[0;34m,\u001b[0m \u001b[0mtbl\u001b[0m\u001b[0;34m)\u001b[0m \u001b[0;34m==\u001b[0m \u001b[0;34m(\u001b[0m\u001b[0;34m\"georgias\"\u001b[0m\u001b[0;34m)\u001b[0m\u001b[0;34m\u001b[0m\u001b[0m\n\u001b[0m",
      "\u001b[0;32m<ipython-input-210-8dab41ac9dc1>\u001b[0m in \u001b[0;36mrm_punc\u001b[0;34m(s, tbl)\u001b[0m\n\u001b[1;32m      3\u001b[0m \u001b[0;34m\u001b[0m\u001b[0m\n\u001b[1;32m      4\u001b[0m \u001b[0;32mdef\u001b[0m \u001b[0mrm_punc\u001b[0m\u001b[0;34m(\u001b[0m\u001b[0ms\u001b[0m\u001b[0;34m,\u001b[0m \u001b[0mtbl\u001b[0m\u001b[0;34m)\u001b[0m\u001b[0;34m:\u001b[0m\u001b[0;34m\u001b[0m\u001b[0m\n\u001b[0;32m----> 5\u001b[0;31m     \u001b[0;32mreturn\u001b[0m \u001b[0ms\u001b[0m\u001b[0;34m.\u001b[0m\u001b[0mtranslate\u001b[0m\u001b[0;34m(\u001b[0m\u001b[0mtbl\u001b[0m\u001b[0;34m)\u001b[0m\u001b[0;34m\u001b[0m\u001b[0m\n\u001b[0m\u001b[1;32m      6\u001b[0m \u001b[0;34m\u001b[0m\u001b[0m\n\u001b[1;32m      7\u001b[0m \u001b[0;32massert\u001b[0m \u001b[0mrm_punc\u001b[0m\u001b[0;34m(\u001b[0m\u001b[0;34m\"georgia's\"\u001b[0m\u001b[0;34m,\u001b[0m \u001b[0mtbl\u001b[0m\u001b[0;34m)\u001b[0m \u001b[0;34m==\u001b[0m \u001b[0;34m(\u001b[0m\u001b[0;34m\"georgias\"\u001b[0m\u001b[0;34m)\u001b[0m\u001b[0;34m\u001b[0m\u001b[0m\n",
      "\u001b[0;31mTypeError\u001b[0m: expected a string or other character buffer object"
     ]
    }
   ],
   "source": [
    "def rm_punc(s, regex):\n",
    "    \n",
    "    \n",
    "assert rm_punc(\"georgia's\", tbl) == (\"georgias\")"
   ]
  },
  {
   "cell_type": "code",
   "execution_count": null,
   "metadata": {
    "collapsed": true
   },
   "outputs": [],
   "source": [
    "def preprocessing(list_of_s):\n",
    "    \n",
    "assert preprocessing(\"\\tThe/at said/vbd ,/, ``/`` deserves/vbz Georgia's/np$ laws/nns ``/`` ''/'' ./.\\n\") == [\n",
    "    \"the\",\n",
    "    \"said\",\n",
    "    \"deserves\",\n",
    "    \"georgias\",\n",
    "    \"laws\"\n",
    "]"
   ]
  },
  {
   "cell_type": "markdown",
   "metadata": {},
   "source": [
    "### Implement Katz Back-off Model"
   ]
  },
  {
   "cell_type": "code",
   "execution_count": null,
   "metadata": {
    "collapsed": true
   },
   "outputs": [],
   "source": [
    "def add_fixed_words(list_of_s):\n",
    "    \n",
    "assert add_fixed_words([\"i\", \"eat\", \"apple\"]) == [\"START\", \"START\", \"i\", \"eat\", \"apple\", \"STOP\"]"
   ]
  },
  {
   "cell_type": "code",
   "execution_count": 146,
   "metadata": {
    "collapsed": true
   },
   "outputs": [],
   "source": [
    "class KatzBackoff():\n",
    "    def __init__(self, discount):\n",
    "        self.discount = discount\n",
    "\n",
    "    def build_ngrams(self, ngram, corpus):\n",
    "        ngrams = {}\n",
    "        if ngram == 0:\n",
    "            ngrams = {\n",
    "                (): {\n",
    "                    \"START\": len(corpus)\n",
    "                }\n",
    "            }\n",
    "        for i in range(len(corpus)):\n",
    "            raw = corpus[i]\n",
    "            core = raw[2:]\n",
    "            for cursor in range(2, len(raw)):\n",
    "                w0 = raw[cursor-2]\n",
    "                w1 = raw[cursor-1]\n",
    "                w2 = raw[cursor]\n",
    "                if ngram == 2:\n",
    "                    key = (w0,w1)\n",
    "                elif ngram == 1:\n",
    "                    key = (w1)\n",
    "                elif ngram == 0:\n",
    "                    key = ()\n",
    "                if key not in ngrams.keys():\n",
    "                    ngrams[key] = {}\n",
    "                    ngrams[key][w2] = 1\n",
    "                else:\n",
    "                    if w2 not in ngrams[key].keys():\n",
    "                        ngrams[key][w2] = 1\n",
    "                    else:\n",
    "                        ngrams[key][w2] += 1\n",
    "        return ngrams\n",
    "    \n",
    "    def fit(self, corpus):\n",
    "        self.unigrams = self.build_ngrams(0, corpus)\n",
    "        self.bigrams = self.build_ngrams(1, corpus)\n",
    "        self.trigrams = self.build_ngrams(2, corpus)\n",
    "    \n",
    "    def calc_q(self, w2, w0, w1, level):\n",
    "        def get_count_fraction(key, ngrams, main_word):\n",
    "            count_combo = ngrams[key][main_word]\n",
    "            count_all = sum(ngrams[key].values())\n",
    "            return (count_combo - self.discount) / count_all\n",
    "\n",
    "        def get_alpha(key, ngrams, recorded_words):\n",
    "            summation = 0\n",
    "            for w2 in recorded_words:\n",
    "                summation += get_count_fraction(key, ngrams, w2)\n",
    "            return 1 - summation\n",
    "\n",
    "        if level == 0:\n",
    "            ngrams = self.unigrams\n",
    "            key = ()\n",
    "        elif level == 1:\n",
    "            ngrams = self.bigrams\n",
    "            key = (w1)\n",
    "        elif level == 2:\n",
    "            ngrams = self.trigrams\n",
    "            key = (w0, w1)\n",
    "\n",
    "        if key in ngrams.keys():\n",
    "            recorded_words = ngrams[key].keys()\n",
    "        else:\n",
    "            recorded_words = []\n",
    "\n",
    "        if w2 in recorded_words:\n",
    "            return get_count_fraction(key, ngrams, w2)\n",
    "        else:\n",
    "            if level != 0:\n",
    "                not_recorded_words = list(set(unigrams[()].keys()) - set(recorded_words))\n",
    "                return get_alpha(key, ngrams, recorded_words) * calc_q(w2, w0, w1, level-1) / sum([calc_q(w, w0, w1, level-1) for w in not_recorded_words])        \n",
    "            else:\n",
    "                return 1 - sum([get_count_fraction((), unigrams, x) for x in recorded_words])    \n",
    "            \n",
    "    def calc_sent_prob(self, input_sent):\n",
    "        res = 1.0\n",
    "        for i in range(2,len(input_sent)):\n",
    "            w0 = input_sent[i-2]\n",
    "            w1 = input_sent[i-1]\n",
    "            w2 = input_sent[i]\n",
    "            res *= self.calc_q(w2, w0, w1, 2)\n",
    "        return res"
   ]
  },
  {
   "cell_type": "code",
   "execution_count": 147,
   "metadata": {},
   "outputs": [
    {
     "data": {
      "text/plain": [
       "1.773595227155235e-10"
      ]
     },
     "execution_count": 147,
     "metadata": {},
     "output_type": "execute_result"
    }
   ],
   "source": [
    "test_corpus = [\n",
    "    [\"START\", \"START\", \"i\", \"eat\", \"apple\", \"STOP\"],\n",
    "    [\"START\", \"START\", \"i\", \"eat\", \"meat\", \"STOP\"],\n",
    "    [\"START\", \"START\", \"vietnam\", \"has\", \"no\", \"enemy\", \"STOP\"],\n",
    "]\n",
    "kb = KatzBackoff(discount=0.01)\n",
    "kb.fit(test_corpus)\n",
    "test_sent = [\"START\", \"START\", \"i\", \"want\", \"to\", \"stay\", \"STOP\"]\n",
    "kb.calc_sent_prob(test_sent)"
   ]
  },
  {
   "cell_type": "code",
   "execution_count": null,
   "metadata": {
    "collapsed": true
   },
   "outputs": [],
   "source": []
  },
  {
   "cell_type": "code",
   "execution_count": null,
   "metadata": {
    "collapsed": true
   },
   "outputs": [],
   "source": []
  },
  {
   "cell_type": "code",
   "execution_count": null,
   "metadata": {
    "collapsed": true
   },
   "outputs": [],
   "source": []
  },
  {
   "cell_type": "code",
   "execution_count": null,
   "metadata": {
    "collapsed": true
   },
   "outputs": [],
   "source": []
  },
  {
   "cell_type": "code",
   "execution_count": null,
   "metadata": {
    "collapsed": true
   },
   "outputs": [],
   "source": []
  }
 ],
 "metadata": {
  "kernelspec": {
   "display_name": "Python 2",
   "language": "python",
   "name": "python2"
  },
  "language_info": {
   "codemirror_mode": {
    "name": "ipython",
    "version": 2
   },
   "file_extension": ".py",
   "mimetype": "text/x-python",
   "name": "python",
   "nbconvert_exporter": "python",
   "pygments_lexer": "ipython2",
   "version": "2.7.14"
  }
 },
 "nbformat": 4,
 "nbformat_minor": 2
}
